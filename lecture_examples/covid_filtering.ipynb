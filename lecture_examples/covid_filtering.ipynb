{
 "metadata": {
  "language_info": {
   "codemirror_mode": {
    "name": "ipython",
    "version": 3
   },
   "file_extension": ".py",
   "mimetype": "text/x-python",
   "name": "python",
   "nbconvert_exporter": "python",
   "pygments_lexer": "ipython3",
   "version": "3.8.5-final"
  },
  "orig_nbformat": 2,
  "kernelspec": {
   "name": "python3",
   "display_name": "Python 3",
   "language": "python"
  }
 },
 "nbformat": 4,
 "nbformat_minor": 2,
 "cells": [
  {
   "source": [
    "# COVID Data examples"
   ],
   "cell_type": "markdown",
   "metadata": {}
  },
  {
   "cell_type": "code",
   "execution_count": 1,
   "metadata": {},
   "outputs": [],
   "source": [
    "import numpy as np\n",
    "import matplotlib.pyplot as plt\n",
    "import scipy.signal as signal\n",
    "import pandas as pd\n",
    "import os\n",
    "import soundfile as sf"
   ]
  },
  {
   "source": [
    "**COVID data example:**  Below are some routine that allow you to easily reporduce and experiment with different filter types"
   ],
   "cell_type": "markdown",
   "metadata": {}
  },
  {
   "cell_type": "code",
   "execution_count": 2,
   "metadata": {},
   "outputs": [],
   "source": [
    "#####################################################################################\n",
    "### exploring COVID data and filtering -- ROUTINES\n",
    "#####################################################################################\n",
    "def filter_and_plot(b, a, x):\n",
    "\ty = signal.lfilter(b, a, x)\n",
    "\tplt.figure()\n",
    "\tplt.plot(x, color = 'tab:gray', label='input') # linewidth=1,\n",
    "\tplt.plot(y, color = 'r', label='output')\n",
    "\tplt.legend()\n",
    "\tplt.grid(linestyle=':')\n",
    "\tplt.xlabel(\"time (days)\")\n",
    "\tplt.ylabel(\"signals\")\n",
    "\t# plt.xlim([0, 100])\n",
    "\t#plt.ylim([-20, 2])\n",
    "\tplt.show()\n",
    "\t#plt.savefig('toy.png', dpi=256)\n",
    "\n",
    "\treturn y\n",
    "\n",
    "def read_covid_data(refresh=False):\n",
    "    fname = 'data/91-DIVOC-countries.csv'\n",
    "    data_url = 'http://91-divoc.com/pages/covid-visualization/?chart=countries&highlight=United%20States&show=25&y=both&scale=linear&data=cases-daily&data-source=jhu&xaxis=right#countries'\n",
    "    file_downloaded = os.path.isfile(fname)\n",
    "    if not file_downloaded or refresh:\n",
    "        ## this does not work because of indirect linking of the CSV data on the page\n",
    "        data = pd.read_csv(data_url, index_col=0, header=None).fillna(value = 0).T\n",
    "    else:\n",
    "        data = pd.read_csv(fname, index_col=0, header=None).fillna(value = 0).T\n",
    "    \n",
    "    us_data = data['United States']\n",
    "\n",
    "    return np.asarray(us_data, dtype=np.int)\n",
    "\n",
    "def direct_dtft(x):\n",
    "    ## range of normalized frequency -- nu  in [0, 0.5]\n",
    "    nu = np.arange(0, 0.5, 0.001)\n",
    "    N_nu_points = len(nu)\n",
    "\n",
    "    ### the DTFT of x\n",
    "    X = np.zeros(N_nu_points, dtype=np.complex)\n",
    "\n",
    "    ## the integer time n\n",
    "    n = np.arange(len(x))\n",
    "\n",
    "    for i in range(N_nu_points):\n",
    "        dtft_exp_nu = np.exp( -2.j * np.pi * nu[i] * n)\n",
    "        X[i] = np.dot(x, dtft_exp_nu)\n",
    "    \n",
    "    return nu, X\n",
    "\n",
    "\n",
    "def plot_freq_respone(b, a, x_low=0, x_high=0.5, y_low=-60, y_high=0, freq_tag='', freq_scale=1):\n",
    "    ## this computes the arma filter's frequency response from the diff. eq. coefficents\n",
    "    w, H = signal.freqz(b, a, worN=2**16)\n",
    "    \n",
    "    plt.figure()\n",
    "    nu =  ( w / ( 2 * np.pi ) ) \n",
    "    plt.plot(nu * freq_scale, 20 * np.log10(abs(H)), label='|H| (dB)')\n",
    "    plt.legend()\n",
    "    plt.grid(linestyle=':')\n",
    "    xlims = np.asarray([x_low, x_high]) * freq_scale\n",
    "    plt.xlim()\n",
    "    plt.ylim([y_low, y_high])\n",
    "    plt.xlabel(f'frequency {freq_tag}')\n",
    "    plt.ylabel('filter gain (dB)')\n"
   ]
  },
  {
   "source": [
    "Read the COVID data and then plot it in the frequency domain. Frequency is in cycles/day (cycles/sample) and is normalized (discrete time), linear frequency.  Notice there is a bit of a spike in the frequency content around 1/7 cycles/day which corresponds to a weekly fluction pattern in the data -- i.e., fewer reports over the weekend."
   ],
   "cell_type": "markdown",
   "metadata": {}
  },
  {
   "cell_type": "code",
   "execution_count": null,
   "metadata": {},
   "outputs": [],
   "source": [
    "#####################################################################################\n",
    "### exploring COVID data and filtering -- EXAMPLES\n",
    "#####################################################################################\n",
    "x_cov = read_covid_data()\n",
    "\n",
    "## plot the DTFT of the data - this is the signal's frequency content\n",
    "nu, X_cov = direct_dtft(x_cov)\n",
    "X_cov_mag_dB = 20 * np.log10(X_cov)\n",
    "plt.figure()\n",
    "plt.plot(nu, X_cov_mag_dB, color = 'b', label='covid data (freq)') # linewidth=1,\n",
    "plt.axvline(x=1/7, c='r')\n",
    "plt.legend()\n",
    "plt.grid(linestyle=':')\n",
    "plt.xlabel(\"frequency (cycles/day)\")\n",
    "plt.ylabel('signal freq. content (dB)')"
   ]
  },
  {
   "source": [
    "Below, we reproduce the 7-day averaging plots that appear on many COVID webpages -- for example [here](http://91-divoc.com/pages/covid-visualization/).  We also show the gain as a function of frequency for this 7-day averaging filter.  Notice that it has a null at frequency 1/7, but does not reject all high frequencies.  "
   ],
   "cell_type": "markdown",
   "metadata": {}
  },
  {
   "cell_type": "code",
   "execution_count": null,
   "metadata": {},
   "outputs": [],
   "source": [
    "### seven day averaging\n",
    "b7 = np.ones(7) / 7\n",
    "a7 = np.asarray([1])\n",
    "\n",
    "y7 = filter_and_plot(b7, a7, x_cov)\n",
    "\n",
    "plot_freq_respone(b7, a7, freq_tag='(cycles/day')\n"
   ]
  },
  {
   "cell_type": "code",
   "execution_count": null,
   "metadata": {},
   "outputs": [],
   "source": []
  },
  {
   "source": [
    "We can compare this with a standard design for ARMA filters -- i.e., a butterworth filter.  Here, I have designed the filter to try to pass frequences below 1/14 and block frequencies above this value.  "
   ],
   "cell_type": "markdown",
   "metadata": {}
  },
  {
   "cell_type": "code",
   "execution_count": null,
   "metadata": {},
   "outputs": [],
   "source": [
    "\n",
    "### butterworth filter\n",
    "nu_0 = 0.5 * (1 / 7)\n",
    "filter_order = 4\n",
    "# b_butter, a_butter = signal.butter(2, 2 * nu_0, btype='lowpass')\n",
    "b_butter, a_butter = signal.butter(filter_order, 2 * nu_0)\n",
    "\n",
    "y_butter = filter_and_plot(b_butter, a_butter, x_cov)\n",
    "\n",
    "plot_freq_respone(b_butter, a_butter, freq_tag='(cycles/day')\n"
   ]
  },
  {
   "source": [
    "We can compare the 7-day averaging with the butterworth filter.  You can uncomment the `plt.xlim([250, 330])` to zzom in on that time range and see the differences.  You should see that there are more high-frequency ripples with the 7-day averaging and that the butterworth filter introduces some \"processing delay\"."
   ],
   "cell_type": "markdown",
   "metadata": {}
  },
  {
   "cell_type": "code",
   "execution_count": null,
   "metadata": {},
   "outputs": [],
   "source": [
    "## compare the 2....\n",
    "\n",
    "plt.figure()\n",
    "plt.plot(y7, color = 'b', label='7 day average') # linewidth=1,\n",
    "plt.plot(y_butter, color = 'r', label='butterowrth')\n",
    "plt.legend()\n",
    "plt.grid(linestyle=':')\n",
    "# plt.xlim([250, 330])\n",
    "plt.xlabel(\"time (days)\")\n",
    "plt.ylabel(\"signals\")\n"
   ]
  }
 ]
}