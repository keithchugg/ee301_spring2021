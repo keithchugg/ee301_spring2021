{
 "cells": [
  {
   "cell_type": "markdown",
   "id": "massive-newsletter",
   "metadata": {},
   "source": [
    "# EE301 Lab 2"
   ]
  },
  {
   "cell_type": "markdown",
   "id": "chinese-monster",
   "metadata": {},
   "source": [
    "## Complex numbers in python"
   ]
  },
  {
   "cell_type": "code",
   "execution_count": 1,
   "id": "fitted-algeria",
   "metadata": {},
   "outputs": [],
   "source": [
    "import numpy as np\n",
    "import matplotlib.pyplot as plt\n",
    "import matplotlib.cm as cm"
   ]
  },
  {
   "cell_type": "markdown",
   "id": "other-photography",
   "metadata": {},
   "source": [
    "Let's define a complex number in python:"
   ]
  },
  {
   "cell_type": "code",
   "execution_count": 2,
   "id": "ready-consultancy",
   "metadata": {},
   "outputs": [
    {
     "name": "stdout",
     "output_type": "stream",
     "text": [
      "Real part of z: 2.0\n",
      "Imaginary part of z: 4.0\n"
     ]
    },
    {
     "data": {
      "text/plain": [
       "complex"
      ]
     },
     "execution_count": 2,
     "metadata": {},
     "output_type": "execute_result"
    }
   ],
   "source": [
    "z = 2+4j\n",
    "\n",
    "print('Real part of z:', z.real)\n",
    "print('Imaginary part of z:', z.imag)\n",
    "\n",
    "type(z)"
   ]
  },
  {
   "cell_type": "markdown",
   "id": "indie-intelligence",
   "metadata": {},
   "source": [
    "Now let's take the complex conjugate of z:"
   ]
  },
  {
   "cell_type": "code",
   "execution_count": 3,
   "id": "ready-detail",
   "metadata": {},
   "outputs": [
    {
     "data": {
      "text/plain": [
       "(2-4j)"
      ]
     },
     "execution_count": 3,
     "metadata": {},
     "output_type": "execute_result"
    }
   ],
   "source": [
    "z = 2+4j\n",
    "\n",
    "z.conjugate()"
   ]
  },
  {
   "cell_type": "code",
   "execution_count": 4,
   "id": "greater-cradle",
   "metadata": {},
   "outputs": [
    {
     "name": "stdout",
     "output_type": "stream",
     "text": [
      "Complex conjugate of z:\n",
      "(2-4j)\n",
      "Complex conjugate of z:\n",
      "(2-4j)\n",
      "\n",
      "Vector example:\n",
      "[20.+0.j 20.+0.j 20.+0.j]\n"
     ]
    }
   ],
   "source": [
    "# Using built-in method:\n",
    "\n",
    "print('Complex conjugate of z:')\n",
    "print(z.conjugate())\n",
    "\n",
    "# Using numpy:\n",
    "print('Complex conjugate of z:')\n",
    "print(np.conj(z))\n",
    "\n",
    "\n",
    "# Note that numpy works with vectors of matrices:\n",
    "\n",
    "print('\\nVector example:')\n",
    "z_vector = np.array([z, z, z])\n",
    "print(z_vector * np.conj(z_vector))"
   ]
  },
  {
   "cell_type": "markdown",
   "id": "satisfactory-start",
   "metadata": {},
   "source": [
    "Now let's plot some points in the complex plane. I'll create a helper function to handle the plotting."
   ]
  },
  {
   "cell_type": "code",
   "execution_count": 5,
   "id": "sunset-valuation",
   "metadata": {},
   "outputs": [],
   "source": [
    "def plot_complex_plane(points, display_plot=True, display_legend=True):\n",
    "    \n",
    "    colors = iter(cm.rainbow(np.linspace(0, 1, len(points))))\n",
    "    for i,point in enumerate(points):\n",
    "        plt.scatter(point.real, point.imag, color=next(colors), label='Point '+str(i+1)) \n",
    "    \n",
    "    plt.xlabel('real axis')\n",
    "    plt.ylabel('imaginary axis')\n",
    "    plt.title('Complex plane')\n",
    "    \n",
    "    if display_legend: plt.legend()\n",
    "    \n",
    "    if display_plot: plt.show()"
   ]
  },
  {
   "cell_type": "markdown",
   "id": "suitable-uncle",
   "metadata": {},
   "source": [
    "Plot the points:"
   ]
  },
  {
   "cell_type": "code",
   "execution_count": 6,
   "id": "directed-color",
   "metadata": {},
   "outputs": [
    {
     "data": {
      "image/png": "[encoded data removed]",
      "text/plain": [
       "<Figure size 432x288 with 1 Axes>"
      ]
     },
     "metadata": {
      "needs_background": "light"
     },
     "output_type": "display_data"
    },
    {
     "data": {
      "image/png": "[encoded data removed]",
      "text/plain": [
       "<Figure size 432x288 with 1 Axes>"
      ]
     },
     "metadata": {
      "needs_background": "light"
     },
     "output_type": "display_data"
    }
   ],
   "source": [
    "# Just z\n",
    "plot_complex_plane([z])\n",
    "\n",
    "\n",
    "z_conj = np.conj(z)\n",
    "z_recip = 1/z\n",
    "z_recip_conj = np.conj(z_recip)\n",
    "\n",
    "# All points\n",
    "plot_complex_plane([z,z_conj, z_recip, z_recip_conj])"
   ]
  },
  {
   "cell_type": "markdown",
   "id": "least-communication",
   "metadata": {},
   "source": [
    "## Rectangular-Polar conversions"
   ]
  },
  {
   "cell_type": "markdown",
   "id": "biblical-arrest",
   "metadata": {},
   "source": [
    "Define the conversion functions with the help of numpy:"
   ]
  },
  {
   "cell_type": "code",
   "execution_count": 7,
   "id": "patent-scottish",
   "metadata": {},
   "outputs": [],
   "source": [
    "def polar2cart(r,theta):\n",
    "    return r * np.exp( 1j * theta )\n",
    "\n",
    "def cart2polar(z):\n",
    "    return ( np.abs(z), np.angle(z) )"
   ]
  },
  {
   "cell_type": "markdown",
   "id": "charming-array",
   "metadata": {},
   "source": [
    "Examples:"
   ]
  },
  {
   "cell_type": "code",
   "execution_count": 8,
   "id": "square-meter",
   "metadata": {},
   "outputs": [
    {
     "name": "stdout",
     "output_type": "stream",
     "text": [
      "Rectangular: (4+2j)\n",
      "Polar: 4.47213595499958*exp(j0.4636476090008061)\n"
     ]
    }
   ],
   "source": [
    "z = 4 + 2j\n",
    "\n",
    "print('Rectangular:', z)\n",
    "\n",
    "r, theta = cart2polar(z)\n",
    "\n",
    "print('Polar:', str(r)+'*exp(j'+str(theta)+')')"
   ]
  },
  {
   "cell_type": "code",
   "execution_count": 9,
   "id": "conventional-morocco",
   "metadata": {},
   "outputs": [
    {
     "name": "stdout",
     "output_type": "stream",
     "text": [
      "Polar: 4*exp(j0.5235987755982988)\n",
      "(3.464101615137755+1.9999999999999998j)\n"
     ]
    }
   ],
   "source": [
    "r =  4\n",
    "theta = np.pi/6\n",
    "\n",
    "print('Polar:', str(r)+'*exp(j'+str(theta)+')')\n",
    "\n",
    "print(polar2cart(r, theta))"
   ]
  },
  {
   "cell_type": "markdown",
   "id": "front-medicare",
   "metadata": {},
   "source": [
    "## Sinusoids and Euler's formula"
   ]
  },
  {
   "cell_type": "code",
   "execution_count": 10,
   "id": "catholic-chambers",
   "metadata": {},
   "outputs": [
    {
     "data": {
      "image/png": "[encoded data removed]",
      "text/plain": [
       "<Figure size 432x288 with 1 Axes>"
      ]
     },
     "metadata": {
      "needs_background": "light"
     },
     "output_type": "display_data"
    }
   ],
   "source": [
    "z = 2 + 2j\n",
    "z_conj = np.conj(z)\n",
    "z_recip = 1/z\n",
    "z_recip_conj = np.conj(z_recip)\n",
    "\n",
    "thetas = np.linspace(0,2*np.pi, 100)\n",
    "r = 1\n",
    "unit_circle = r*np.exp(1j*thetas)\n",
    "\n",
    "# Add axes to plots\n",
    "m = 2\n",
    "plt.axes().set_aspect('equal')\n",
    "plt.plot([0,0],[-1.1*m,1.1*m],'k',linewidth=0.5)\n",
    "plt.plot([-1.1*m,1.1*m],[0,0],'k',linewidth=0.5)\n",
    "\n",
    "\n",
    "plt.plot([x.real for x in unit_circle], [x.imag for x in unit_circle])\n",
    "plot_complex_plane([z,z_conj, z_recip, z_recip_conj])"
   ]
  },
  {
   "cell_type": "markdown",
   "id": "funny-chinese",
   "metadata": {},
   "source": [
    "Check Euler's formula:"
   ]
  },
  {
   "cell_type": "code",
   "execution_count": 11,
   "id": "certified-composer",
   "metadata": {},
   "outputs": [
    {
     "data": {
      "text/plain": [
       "True"
      ]
     },
     "execution_count": 11,
     "metadata": {},
     "output_type": "execute_result"
    }
   ],
   "source": [
    "np.array_equal(unit_circle, np.cos(thetas) + 1j*np.sin(thetas))"
   ]
  },
  {
   "cell_type": "markdown",
   "id": "welsh-front",
   "metadata": {},
   "source": [
    "We can easily plot sinusoids using matplotlib and numpy:"
   ]
  },
  {
   "cell_type": "code",
   "execution_count": 12,
   "id": "sitting-poetry",
   "metadata": {},
   "outputs": [
    {
     "data": {
      "image/png": "[encoded data removed]",
      "text/plain": [
       "<Figure size 432x288 with 1 Axes>"
      ]
     },
     "metadata": {
      "needs_background": "light"
     },
     "output_type": "display_data"
    }
   ],
   "source": [
    "plt.plot(thetas, np.cos(thetas), label='cosine')\n",
    "plt.plot(thetas, np.sin(thetas), label='sine')\n",
    "plt.legend()\n",
    "\n",
    "plt.show()"
   ]
  },
  {
   "cell_type": "code",
   "execution_count": null,
   "id": "legendary-truth",
   "metadata": {},
   "outputs": [],
   "source": []
  }
 ],
 "metadata": {
  "kernelspec": {
   "display_name": "ee301",
   "language": "python",
   "name": "ee301"
  },
  "language_info": {
   "codemirror_mode": {
    "name": "ipython",
    "version": 3
   },
   "file_extension": ".py",
   "mimetype": "text/x-python",
   "name": "python",
   "nbconvert_exporter": "python",
   "pygments_lexer": "ipython3",
   "version": "3.9.1"
  }
 },
 "nbformat": 4,
 "nbformat_minor": 5
}
